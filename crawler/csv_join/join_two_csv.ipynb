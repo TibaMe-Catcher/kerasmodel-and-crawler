{
 "metadata": {
  "language_info": {
   "codemirror_mode": {
    "name": "ipython",
    "version": 3
   },
   "file_extension": ".py",
   "mimetype": "text/x-python",
   "name": "python",
   "nbconvert_exporter": "python",
   "pygments_lexer": "ipython3",
   "version": "3.8.3-final"
  },
  "orig_nbformat": 2,
  "kernelspec": {
   "name": "python3",
   "display_name": "Python 3"
  }
 },
 "nbformat": 4,
 "nbformat_minor": 2,
 "cells": [
  {
   "cell_type": "code",
   "execution_count": 1,
   "metadata": {},
   "outputs": [],
   "source": [
    "import os\n",
    "import pandas as pd\n",
    "import glob"
   ]
  },
  {
   "cell_type": "code",
   "execution_count": 2,
   "metadata": {
    "tags": []
   },
   "outputs": [
    {
     "output_type": "stream",
     "name": "stdout",
     "text": [
      "共發現2個CSV文件\n正在處理............\n合併完畢！\n"
     ]
    }
   ],
   "source": [
    "csv_list = glob.glob('*.csv') #查看同文件夾下的csv文件數\n",
    "print(u'共發現%s個CSV文件'% len(csv_list))\n",
    "print(u'正在處理............')\n",
    "for i in csv_list: #循環讀取同文件夾下的csv文件\n",
    "    fr = open(i,'rb').read()\n",
    "    with open('推薦系統資料_小驚喜.csv','ab') as f: #將結果保存爲result.csv\n",
    "        f.write(fr)\n",
    "print(u'合併完畢！')"
   ]
  },
  {
   "cell_type": "code",
   "execution_count": 3,
   "metadata": {},
   "outputs": [
    {
     "output_type": "execute_result",
     "data": {
      "text/plain": [
       "    Category      Mood                     Title  \\\n",
       "0       joke     relax                 小駱駝與媽媽的對話   \n",
       "1       joke     relax                     要憋50年   \n",
       "2       joke     happy                       笑一個   \n",
       "3       joke     relax                冷.........   \n",
       "4       joke     happy                       1+1   \n",
       "..       ...       ...                       ...   \n",
       "206    music  romantic  Lovely World Dies - Live   \n",
       "207    music  romantic              Tainted Love   \n",
       "208    music  romantic             Eternal Flame   \n",
       "209    music  romantic            When Doves Cry   \n",
       "210    music  romantic    It Must Have Been Love   \n",
       "\n",
       "                                               Content  \n",
       "0    小駱駝：「為什麼我的眼睫毛這麼長？」\\n媽媽：『沙漠風沙很大，能保護眼睛。』\\n「那為什麼我...  \n",
       "1    小明在上歷史課\\n老師：「說起這�堙A就要從50年前說起」\\n小明：「老師，我想上廁所」\\n...  \n",
       "2    有一天在學校，老師問同學:你們知道位甚麼人死後全身會冰冰冷冷的。\\n過了很久只聽到一個同學默...  \n",
       "3                   在很久以前,有一個很冷的房子,裡面住著一個很冷的人.........  \n",
       "4    有一天，老師問小明1+1=?，小明說不知道，老師叫他回去問媽媽。小明回家就問媽媽，媽媽正在煮...  \n",
       "..                                                 ...  \n",
       "206        https://www.youtube.com/watch?v=-deDeBwCl3k  \n",
       "207        https://www.youtube.com/watch?v=XZVpR3Pk-r8  \n",
       "208        https://www.youtube.com/watch?v=PSoOFn3wQV4  \n",
       "209        https://www.youtube.com/watch?v=UG3VcCAlUgE  \n",
       "210        https://www.youtube.com/watch?v=k2C5TjS2sh4  \n",
       "\n",
       "[211 rows x 4 columns]"
      ],
      "text/html": "<div>\n<style scoped>\n    .dataframe tbody tr th:only-of-type {\n        vertical-align: middle;\n    }\n\n    .dataframe tbody tr th {\n        vertical-align: top;\n    }\n\n    .dataframe thead th {\n        text-align: right;\n    }\n</style>\n<table border=\"1\" class=\"dataframe\">\n  <thead>\n    <tr style=\"text-align: right;\">\n      <th></th>\n      <th>Category</th>\n      <th>Mood</th>\n      <th>Title</th>\n      <th>Content</th>\n    </tr>\n  </thead>\n  <tbody>\n    <tr>\n      <th>0</th>\n      <td>joke</td>\n      <td>relax</td>\n      <td>小駱駝與媽媽的對話</td>\n      <td>小駱駝：「為什麼我的眼睫毛這麼長？」\\n媽媽：『沙漠風沙很大，能保護眼睛。』\\n「那為什麼我...</td>\n    </tr>\n    <tr>\n      <th>1</th>\n      <td>joke</td>\n      <td>relax</td>\n      <td>要憋50年</td>\n      <td>小明在上歷史課\\n老師：「說起這�堙A就要從50年前說起」\\n小明：「老師，我想上廁所」\\n...</td>\n    </tr>\n    <tr>\n      <th>2</th>\n      <td>joke</td>\n      <td>happy</td>\n      <td>笑一個</td>\n      <td>有一天在學校，老師問同學:你們知道位甚麼人死後全身會冰冰冷冷的。\\n過了很久只聽到一個同學默...</td>\n    </tr>\n    <tr>\n      <th>3</th>\n      <td>joke</td>\n      <td>relax</td>\n      <td>冷.........</td>\n      <td>在很久以前,有一個很冷的房子,裡面住著一個很冷的人.........</td>\n    </tr>\n    <tr>\n      <th>4</th>\n      <td>joke</td>\n      <td>happy</td>\n      <td>1+1</td>\n      <td>有一天，老師問小明1+1=?，小明說不知道，老師叫他回去問媽媽。小明回家就問媽媽，媽媽正在煮...</td>\n    </tr>\n    <tr>\n      <th>...</th>\n      <td>...</td>\n      <td>...</td>\n      <td>...</td>\n      <td>...</td>\n    </tr>\n    <tr>\n      <th>206</th>\n      <td>music</td>\n      <td>romantic</td>\n      <td>Lovely World Dies - Live</td>\n      <td>https://www.youtube.com/watch?v=-deDeBwCl3k</td>\n    </tr>\n    <tr>\n      <th>207</th>\n      <td>music</td>\n      <td>romantic</td>\n      <td>Tainted Love</td>\n      <td>https://www.youtube.com/watch?v=XZVpR3Pk-r8</td>\n    </tr>\n    <tr>\n      <th>208</th>\n      <td>music</td>\n      <td>romantic</td>\n      <td>Eternal Flame</td>\n      <td>https://www.youtube.com/watch?v=PSoOFn3wQV4</td>\n    </tr>\n    <tr>\n      <th>209</th>\n      <td>music</td>\n      <td>romantic</td>\n      <td>When Doves Cry</td>\n      <td>https://www.youtube.com/watch?v=UG3VcCAlUgE</td>\n    </tr>\n    <tr>\n      <th>210</th>\n      <td>music</td>\n      <td>romantic</td>\n      <td>It Must Have Been Love</td>\n      <td>https://www.youtube.com/watch?v=k2C5TjS2sh4</td>\n    </tr>\n  </tbody>\n</table>\n<p>211 rows × 4 columns</p>\n</div>"
     },
     "metadata": {},
     "execution_count": 3
    }
   ],
   "source": [
    "import pandas as pd\n",
    "\n",
    "df=pd.read_csv('Surprise.csv')\n",
    "\n",
    "#df.to_csv('./Surprise.csv',encoding ='utf-8-sig', index= True)\n",
    "df\n"
   ]
  },
  {
   "cell_type": "code",
   "execution_count": null,
   "metadata": {},
   "outputs": [],
   "source": []
  }
 ]
}